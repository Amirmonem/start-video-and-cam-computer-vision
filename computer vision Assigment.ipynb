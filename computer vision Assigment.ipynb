{
 "cells": [
  {
   "cell_type": "code",
   "execution_count": 1,
   "id": "54c8926b",
   "metadata": {},
   "outputs": [],
   "source": [
    "import cv2\n",
    "import numpy as np\n",
    "import datetime"
   ]
  },
  {
   "cell_type": "code",
   "execution_count": 2,
   "id": "96ee4a53",
   "metadata": {},
   "outputs": [
    {
     "name": "stdout",
     "output_type": "stream",
     "text": [
      "640.0\n",
      "480.0\n",
      "1280.0\n",
      "720.0\n"
     ]
    }
   ],
   "source": [
    "cap_video = cv2.VideoCapture('video.mp4')\n",
    "cap_cam = cv2.VideoCapture(0)\n",
    "\n",
    "print(cap_cam.get(cv2.CAP_PROP_FRAME_WIDTH))\n",
    "print(cap_cam.get(cv2.CAP_PROP_FRAME_HEIGHT))\n",
    "print(cap_video.get(cv2.CAP_PROP_FRAME_WIDTH))\n",
    "print(cap_video.get(cv2.CAP_PROP_FRAME_HEIGHT))\n",
    "cap_cam.set(cv2.CAP_PROP_FRAME_WIDTH, 320)\n",
    "cap_cam.set(cv2.CAP_PROP_FRAME_HEIGHT, 200)\n",
    "\n",
    "\n",
    "while(True):\n",
    "    ret_cam, frame_cam = cap_cam.read()\n",
    "    ret_video, frame_video = cap_video.read()\n",
    "    \n",
    "    if ret_cam and ret_video:\n",
    "        font = cv2.FONT_HERSHEY_SIMPLEX\n",
    "        datet = str(datetime.datetime.now())\n",
    "        text = \"WIDTH: \" + str(cap_cam.get(3)) + \" HEIGHT: \" + str(cap_cam.get(4))\n",
    "        frame_cam = cv2.putText(frame_cam, \"Amir Monem\", (10, 50), font, 0.3, [0, 255, 255], 2)\n",
    "        frame_cam = cv2.putText(frame_cam, \"215122\", (10, 70), font, 0.3, [0, 255, 255], 2)\n",
    "        frame_cam = cv2.putText(frame_cam, \"ERU\", (10, 90), font, 0.3, [0, 255, 255], 2)\n",
    "        frame_cam = cv2.putText(frame_cam, datet, (10, 110), font, 0.3, [0, 255, 255], 2)\n",
    "        cv2.imshow(\"Cam\", frame_cam)\n",
    "        cv2.imshow('Video', frame_video)\n",
    "    \n",
    "    if cv2.waitKey(1)== ord('q'):\n",
    "        break\n",
    "\n",
    "cap_cam.release()\n",
    "cap_video.release()\n",
    "cv2.destroyAllWindows()\n"
   ]
  },
  {
   "cell_type": "code",
   "execution_count": null,
   "id": "7a84187c",
   "metadata": {},
   "outputs": [],
   "source": []
  },
  {
   "cell_type": "code",
   "execution_count": null,
   "id": "d88b37f3",
   "metadata": {},
   "outputs": [],
   "source": []
  }
 ],
 "metadata": {
  "kernelspec": {
   "display_name": "Python 3 (ipykernel)",
   "language": "python",
   "name": "python3"
  },
  "language_info": {
   "codemirror_mode": {
    "name": "ipython",
    "version": 3
   },
   "file_extension": ".py",
   "mimetype": "text/x-python",
   "name": "python",
   "nbconvert_exporter": "python",
   "pygments_lexer": "ipython3",
   "version": "3.11.5"
  }
 },
 "nbformat": 4,
 "nbformat_minor": 5
}
